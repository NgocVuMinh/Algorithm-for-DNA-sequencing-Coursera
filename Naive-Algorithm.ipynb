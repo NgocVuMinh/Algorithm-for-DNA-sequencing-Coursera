{
 "cells": [
  {
   "cell_type": "markdown",
   "id": "f5e2c4b6",
   "metadata": {},
   "source": [
    "### The naive algorithm: \n",
    "Given a pattern and a text, the naive algorithm for exact matching essentially finds all occurrences of the pattern in the text.\n",
    "For more information, visit the video lecture: https://www.youtube.com/watch?v=KUbsdGm3G7s",
    "\nIT TURNS OUT that the original version provided by the course is much more efficient when calculating the number of alignment comparisons and character comparisons."
   ]
  },
  {
   "cell_type": "markdown",
   "id": "880a6edf",
   "metadata": {},
   "source": [
    "The Naive Algorithm for Exact Matching provided by the course. The function naive(p, t) takes in a pattern p and a text t (t is longer than p), and returns a list of positions (the indexes or offsets) in which p appears in t."
   ]
  },
  {
   "cell_type": "code",
   "execution_count": 1,
   "id": "27d75d9a",
   "metadata": {},
   "outputs": [],
   "source": [
    "def naive(p, t):\n",
    "    occurrences = []\n",
    "    for i in range(len(t) - len(p) + 1):  # loop over alignments\n",
    "        match = True\n",
    "        for j in range(len(p)):  # loop over characters\n",
    "            if t[i+j] != p[j]:  # compare characters\n",
    "                match = False\n",
    "                break\n",
    "        if match:\n",
    "            occurrences.append(i)  # all chars matched; record\n",
    "    return occurrences"
   ]
  },
  {
   "cell_type": "markdown",
   "id": "e0ec83c4",
   "metadata": {},
   "source": [
    "This is the version of the naive algorithm that I developed before exploring the code given above. The idea is similar but the code is much shorter:"
   ]
  },
  {
   "cell_type": "code",
   "execution_count": 2,
   "id": "f93347b2",
   "metadata": {},
   "outputs": [],
   "source": [
    "def my_naive(p, t):\n",
    "    offset = []\n",
    "    for i in range(len(t) - len(p) + 1):\n",
    "        if t[i:i+len(p)] == p:\n",
    "            offset.append(i)\n",
    "    return offset"
   ]
  },
  {
   "cell_type": "markdown",
   "id": "2d786098",
   "metadata": {},
   "source": [
    "The course assignment asks to modify the naive algorithm or create a new one that allows a maximum of 2 mismatches per occurrence, and then test that new algorithm with an example.\n",
    "This is my version:"
   ]
  },
  {
   "cell_type": "code",
   "execution_count": 3,
   "id": "e13eb459",
   "metadata": {},
   "outputs": [],
   "source": [
    "def naive_2mm(u, v):\n",
    "    occurrences = []\n",
    "    for i in range(len(v) - len(u) + 1): \n",
    "        sub = v[i:i+len(u)]\n",
    "        mis = 0\n",
    "        for j in range(len(sub)):\n",
    "            if u[j] != sub[j]:\n",
    "                mis += 1\n",
    "        if mis <= 2:\n",
    "            occurrences.append(i)\n",
    "    return occurrences"
   ]
  },
  {
   "cell_type": "markdown",
   "id": "61e5aada",
   "metadata": {},
   "source": [
    "An example, the given output is [10, 24, 38]:"
   ]
  },
  {
   "cell_type": "code",
   "execution_count": 4,
   "id": "cd09cd19",
   "metadata": {},
   "outputs": [
    {
     "name": "stdout",
     "output_type": "stream",
     "text": [
      "[10, 24, 38]\n"
     ]
    }
   ],
   "source": [
    "p = 'CTGT'\n",
    "ten_as = 'AAAAAAAAAA'\n",
    "t = ten_as + 'CTGT' + ten_as + 'CTTT' + ten_as + 'CGGG' + ten_as\n",
    "occurrences = naive_2mm(p, t)\n",
    "print(occurrences)"
   ]
  },
  {
   "cell_type": "markdown",
   "id": "c7cb2fb0",
   "metadata": {},
   "source": [
    "The result matches the given output!"
   ]
  }
 ],
 "metadata": {
  "kernelspec": {
   "display_name": "Python 3 (ipykernel)",
   "language": "python",
   "name": "python3"
  },
  "language_info": {
   "codemirror_mode": {
    "name": "ipython",
    "version": 3
   },
   "file_extension": ".py",
   "mimetype": "text/x-python",
   "name": "python",
   "nbconvert_exporter": "python",
   "pygments_lexer": "ipython3",
   "version": "3.9.7"
  }
 },
 "nbformat": 4,
 "nbformat_minor": 5
}
