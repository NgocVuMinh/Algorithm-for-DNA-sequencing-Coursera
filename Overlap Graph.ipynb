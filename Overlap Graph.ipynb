{
 "cells": [
  {
   "cell_type": "markdown",
   "id": "c231bce3",
   "metadata": {},
   "source": [
    "### Building a function for finding an overlap graph derived from multiple reads (or strings) \n",
    "\n",
    "#### Given a dataset of 10,000 reads, with no two reads have the same sequence of bases.\n",
    "#### Questions: Find all pairs of reads with an exact suffix/prefix match of length at least 30. How many edges are in the graph?  In other words, how many distinct pairs of reads overlap? How many nodes in this graph have at least one outgoing edge? (In other words, how many reads have a suffix involved in an overlap)"
   ]
  },
  {
   "cell_type": "markdown",
   "id": "637b94c7",
   "metadata": {},
   "source": [
    "#### Instructions given by the course materials are as followed:\n",
    "\n",
    "Let every k-mer in the dataset have an associated Python set object, which starts out empty.\n",
    "We use a Python dictionary to associate each k-mer with its corresponding set.\n",
    "(1) For every k-mer in a read, we add the read to the set object corresponding to that k-mer. If our read is GATTA and k=3, we would add GATTA to the set objects for GAT, ATT and TTA.\n",
    "We do this for every read so that, at the end, eachset contains all reads containing the corresponding k-mer.\n",
    "(2) Now, for each read a, we find all overlaps involving a suffix of a. To do this, we take a's length-k suffix, find all reads containing that k-mer (obtained from the corresponding set) and call overlap(a, b, min_length=k) for each."
   ]
  },
  {
   "cell_type": "markdown",
   "id": "567dd321",
   "metadata": {},
   "source": [
    "#### Download the dataset which includes 10,000 reads"
   ]
  },
  {
   "cell_type": "code",
   "execution_count": null,
   "id": "8b751be1",
   "metadata": {},
   "outputs": [],
   "source": [
    "!wget --no-check https://d28rh4a8wq0iu5.cloudfront.net/ads1/data/ERR266411_1.for_asm.fastq"
   ]
  },
  {
   "cell_type": "markdown",
   "id": "def3ab77",
   "metadata": {},
   "source": [
    "#### Read FASTQ file, return a list of reads"
   ]
  },
  {
   "cell_type": "code",
   "execution_count": 8,
   "id": "869b0df2",
   "metadata": {},
   "outputs": [],
   "source": [
    "def readFastq(filename):\n",
    "    sequences = []\n",
    "    qualities = []\n",
    "    with open(filename, 'r') as fh:\n",
    "        while True:\n",
    "            fh.readline()\n",
    "            seq = fh.readline().rstrip()\n",
    "            fh.readline()\n",
    "            qual = fh.readline().rstrip()\n",
    "            if len(seq) == 0:\n",
    "                break\n",
    "            sequences.append(seq)\n",
    "            qualities.append(qual)\n",
    "    return sequences  #, qualities\n",
    "\n",
    "reads = readFastq('ERR266411_1.for_asm.fastq')"
   ]
  },
  {
   "cell_type": "markdown",
   "id": "fcd57647",
   "metadata": {},
   "source": [
    "#### Functions built according to instructions"
   ]
  },
  {
   "cell_type": "code",
   "execution_count": 10,
   "id": "e672d9f0",
   "metadata": {},
   "outputs": [],
   "source": [
    "def all_kmers(read, k):\n",
    "    \"\"\" Returns all k-mers of length k of a given read (string) \"\"\"\n",
    "    all_kmers = []\n",
    "    for i in range(len(read) - k + 1):\n",
    "        all_kmers.append(read[i: i+k])\n",
    "    return all_kmers\n",
    "\n",
    "\n",
    "def overlap(a, b, k):     # this function is given by the course\n",
    "    \"\"\" Returns the length (of minimum k bases) of the overlap between read a and read b \"\"\"\n",
    "    start = 0\n",
    "    while True:\n",
    "        start = a.find(b[:k], start)\n",
    "        if start == -1:\n",
    "            return 0\n",
    "        if b.startswith(a[start:]):\n",
    "            return len(a) - start\n",
    "        start += 1\n",
    "        \n",
    "\n",
    "def graphs(reads, k):\n",
    "    \"\"\" Returns a list of pairs (or edges) of reads that overlap (at least k bases), and a list of nodes that\n",
    "    have at least one outgoing edge (referred as tailnodes) \"\"\"\n",
    "    \n",
    "    pairs = []\n",
    "    tailnodes = set()\n",
    "    suffixSet = {}\n",
    "    \n",
    "    for read in reads:\n",
    "        kmers = all_kmers(read, k)\n",
    "        for kmer in kmers:\n",
    "            if not kmer in suffixSet.keys():\n",
    "                suffixSet[kmer] = set()\n",
    "            suffixSet[kmer].add(read)\n",
    "    \n",
    "    for read in reads:\n",
    "        overlap_reads = suffixSet[read[-k:]]\n",
    "        for each in overlap_reads:\n",
    "            if each != read:\n",
    "                if overlap(read, each, k) > 0:\n",
    "                    pairs.append((read, each))\n",
    "                    if not read in tailnodes:\n",
    "                        tailnodes.add(read)\n",
    "    return pairs, tailnodes"
   ]
  },
  {
   "cell_type": "markdown",
   "id": "1e720a77",
   "metadata": {},
   "source": [
    "#### To answer the questions, simply run:"
   ]
  },
  {
   "cell_type": "code",
   "execution_count": null,
   "id": "1293c55a",
   "metadata": {},
   "outputs": [],
   "source": [
    "len(pairs)"
   ]
  },
  {
   "cell_type": "code",
   "execution_count": null,
   "id": "0119995a",
   "metadata": {},
   "outputs": [],
   "source": [
    "len(tailnodes)"
   ]
  }
 ],
 "metadata": {
  "kernelspec": {
   "display_name": "Python 3 (ipykernel)",
   "language": "python",
   "name": "python3"
  },
  "language_info": {
   "codemirror_mode": {
    "name": "ipython",
    "version": 3
   },
   "file_extension": ".py",
   "mimetype": "text/x-python",
   "name": "python",
   "nbconvert_exporter": "python",
   "pygments_lexer": "ipython3",
   "version": "3.9.7"
  }
 },
 "nbformat": 4,
 "nbformat_minor": 5
}
